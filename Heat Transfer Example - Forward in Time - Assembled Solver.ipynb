{
 "cells": [
  {
   "cell_type": "code",
   "execution_count": null,
   "metadata": {
    "collapsed": true
   },
   "outputs": [
    {
     "name": "stdout",
     "output_type": "stream",
     "text": [
      "Fetching package metadata ...........\n",
      "Solving package specifications: .\n",
      "\n",
      "Package plan for installation in environment /home/nbcommon/anaconda3_410:\n",
      "\n",
      "The following NEW packages will be INSTALLED:\n",
      "\n",
      "    blas:         1.1-openblas            conda-forge\n",
      "    boost:        1.63.0-np111py35_6      conda-forge\n",
      "    boost-cpp:    1.63.0-2                conda-forge\n",
      "    bzip2:        1.0.6-1                 conda-forge\n",
      "    cairo:        1.14.6-4                conda-forge\n",
      "    cloog:        0.18.0-0                           \n",
      "    cmake:        3.9.1-0                 conda-forge\n",
      "    eigen:        3.3.3-0                 conda-forge\n",
      "    expat:        2.2.1-0                 conda-forge\n",
      "    fenics:       2016.2.0-py35_6         conda-forge\n",
      "    ffmpeg:       3.2.4-1                 conda-forge\n",
      "    gcc:          4.8.5-7                            \n",
      "    gettext:      0.19.7-1                conda-forge\n",
      "    giflib:       5.1.4-0                 conda-forge\n",
      "    glib:         2.51.4-0                conda-forge\n",
      "    gmp:          6.1.2-0                 conda-forge\n",
      "    harfbuzz:     1.3.4-2                 conda-forge\n",
      "    icu:          58.1-1                  conda-forge\n",
      "    isl:          0.12.2-0                           \n",
      "    jasper:       1.900.1-4               conda-forge\n",
      "    libgcc:       5.2.0-0                            \n",
      "    libiconv:     1.14-4                  conda-forge\n",
      "    libuv:        1.11.0-0                conda-forge\n",
      "    libwebp:      0.5.2-7                 conda-forge\n",
      "    metis:        5.1.0-3                 conda-forge\n",
      "    mpc:          1.0.3-4                 conda-forge\n",
      "    mpfr:         3.1.5-0                 conda-forge\n",
      "    mpich:        3.2-4                   conda-forge\n",
      "    ncurses:      5.9-10                  conda-forge\n",
      "    openblas:     0.2.19-2                conda-forge\n",
      "    pcre:         8.39-0                  conda-forge\n",
      "    petsc:        3.7.6-blas_openblas_0   conda-forge [blas_openblas]\n",
      "    petsc4py:     3.7.0-py35_1            conda-forge\n",
      "    pixman:       0.34.0-0                conda-forge\n",
      "    pkg-config:   0.29.1-1                conda-forge\n",
      "    ptscotch:     6.0.4-2                 conda-forge\n",
      "    rhash:        1.3.4-0                 conda-forge\n",
      "    slepc:        3.7.4-0                 conda-forge\n",
      "    slepc4py:     3.7.0-py35_0            conda-forge\n",
      "    suitesparse:  4.5.4-blas_openblas_200 conda-forge [blas_openblas]\n",
      "    swig:         3.0.11-0                conda-forge\n",
      "    tbb:          2018_20170726-0         conda-forge\n",
      "    x264:         20131217-3              conda-forge\n",
      "\n",
      "The following packages will be UPDATED:\n",
      "\n",
      "    fontconfig:   2.11.1-6                            --> 2.12.1-4                          conda-forge\n",
      "    freetype:     2.5.5-1                             --> 2.7-1                             conda-forge\n",
      "    jpeg:         8d-2                                --> 9b-0                              conda-forge\n",
      "    libpng:       1.6.22-0                            --> 1.6.28-1                          conda-forge\n",
      "    libtiff:      4.0.6-2                             --> 4.0.6-7                           conda-forge\n",
      "    matplotlib:   1.5.1-np111py35_0                   --> 2.0.0-np111py35_2                 conda-forge\n",
      "    numpy:        1.11.3-py35_0                       --> 1.11.3-py35_blas_openblas_202     conda-forge [blas_openblas]\n",
      "    opencv:       3.1.0-np111py35_1                   --> 3.2.0-np111py35_blas_openblas_202 conda-forge [blas_openblas]\n",
      "    pillow:       3.4.2-py35_0                        --> 4.2.1-py35_1                      conda-forge\n",
      "    scikit-learn: 0.18.1-np111py35_1                  --> 0.19.0-py35_blas_openblas_201     conda-forge [blas_openblas]\n",
      "    scipy:        0.19.0-np111py35_0                  --> 0.19.1-py35_blas_openblas_202     conda-forge [blas_openblas]\n",
      "\n",
      "The following packages will be SUPERSEDED by a higher-priority channel:\n",
      "\n",
      "    conda:        4.3.25-py35_0                       --> 4.3.23-py35_0                     conda-forge\n",
      "    conda-env:    2.6.0-0                             --> 2.6.0-0                           conda-forge\n",
      "    hdf4:         4.2.12-0                            --> 4.2.12-0                          conda-forge\n",
      "\n",
      "bzip2-1.0.6-1. 100% |################################| Time: 0:00:00   1.28 MB/s\n",
      "conda-env-2.6. 100% |################################| Time: 0:00:00 673.45 kB/s\n",
      "eigen-3.3.3-0. 100% |################################| Time: 0:00:00   4.54 MB/s\n",
      "expat-2.2.1-0. 100% |################################| Time: 0:00:00  11.38 MB/s\n",
      "gettext-0.19.7 100% |################################| Time: 0:00:00  26.10 MB/s\n",
      "giflib-5.1.4-0 100% |################################| Time: 0:00:00  48.85 MB/s\n",
      "gmp-6.1.2-0.ta 100% |################################| Time: 0:00:00  19.38 MB/s\n",
      "icu-58.1-1.tar 100% |################################| Time: 0:00:00  25.54 MB/s\n",
      "jpeg-9b-0.tar. 100% |################################| Time: 0:00:00  49.11 MB/s\n",
      "libgcc-5.2.0-0 100% |################################| Time: 0:00:00   6.52 MB/s\n",
      "libiconv-1.14- 100% |################################| Time: 0:00:00  26.27 MB/s\n",
      "libuv-1.11.0-0 100% |################################| Time: 0:00:00  48.66 MB/s\n",
      "metis-5.1.0-3. 100% |################################| Time: 0:00:00  47.61 MB/s\n",
      "ncurses-5.9-10 100% |################################| Time: 0:00:00  24.92 MB/s\n",
      "pcre-8.39-0.ta 100% |################################| Time: 0:00:00  48.26 MB/s\n",
      "pixman-0.34.0- 100% |################################| Time: 0:00:00  31.94 MB/s\n",
      "rhash-1.3.4-0. 100% |################################| Time: 0:00:00  45.92 MB/s\n",
      "tbb-2018_20170 100% |################################| Time: 0:00:00  11.56 MB/s\n",
      "x264-20131217- 100% |################################| Time: 0:00:00   9.08 MB/s\n",
      "boost-cpp-1.63 100% |################################| Time: 0:00:00  18.98 MB/s\n",
      "ffmpeg-3.2.4-1 100% |################################| Time: 0:00:01  48.72 MB/s\n",
      "glib-2.51.4-0. 100% |################################| Time: 0:00:00  47.91 MB/s\n",
      "hdf4-4.2.12-0. 100% |################################| Time: 0:00:00  54.70 MB/s\n",
      "isl-0.12.2-0.t 100% |################################| Time: 0:00:00  12.38 MB/s\n",
      "jasper-1.900.1 100% |################################| Time: 0:00:00  43.39 MB/s\n",
      "libpng-1.6.28- 100% |################################| Time: 0:00:00  52.26 MB/s\n",
      "libtiff-4.0.6- 100% |################################| Time: 0:00:00  43.95 MB/s\n",
      "mpfr-3.1.5-0.t 100% |################################| Time: 0:00:00  50.53 MB/s\n",
      "mpich-3.2-4.ta 100% |################################| Time: 0:00:00  10.44 MB/s\n",
      "openblas-0.2.1 100% |################################| Time: 0:00:00  27.06 MB/s\n",
      "pkg-config-0.2 100% |################################| Time: 0:00:00   7.12 MB/s\n",
      "blas-1.1-openb 100% |################################| Time: 0:00:00   2.22 MB/s\n",
      "cloog-0.18.0-0 100% |################################| Time: 0:00:00  16.42 MB/s\n",
      "cmake-3.9.1-0. 100% |################################| Time: 0:00:00  17.18 MB/s\n",
      "freetype-2.7-1 100% |################################| Time: 0:00:00  33.60 MB/s\n",
      "libwebp-0.5.2- 100% |################################| Time: 0:00:00  50.43 MB/s\n",
      "mpc-1.0.3-4.ta 100% |################################| Time: 0:00:00  35.81 MB/s\n",
      "ptscotch-6.0.4 100% |################################| Time: 0:00:00  10.58 MB/s\n",
      "fontconfig-2.1 100% |################################| Time: 0:00:00  12.58 MB/s\n",
      "gcc-4.8.5-7.ta 100% |################################| Time: 0:00:01  49.25 MB/s\n",
      "numpy-1.11.3-p 100% |################################| Time: 0:00:02   3.81 MB/s\n",
      "pillow-4.2.1-p 100% |################################| Time: 0:00:00   6.64 MB/s\n",
      "suitesparse-4. 100% |################################| Time: 0:00:00   5.75 MB/s\n",
      "boost-1.63.0-n 100% |################################| Time: 0:00:00   5.10 MB/s\n",
      "cairo-1.14.6-4 100% |################################| Time: 0:00:00   7.32 MB/s\n",
      "petsc-3.7.6-bl 100% |################################| Time: 0:00:00   7.92 MB/s\n",
      "scipy-0.19.1-p 100% |################################| Time: 0:00:01  28.50 MB/s\n",
      "harfbuzz-1.3.4 100% |################################| Time: 0:00:00  46.83 MB/s\n",
      "petsc4py-3.7.0 100% |################################| Time: 0:00:00  30.76 MB/s\n",
      "scikit-learn-0 100% |################################| Time: 0:00:00  18.56 MB/s\n",
      "slepc-3.7.4-0. 100% |################################| Time: 0:00:00  20.69 MB/s\n",
      "swig-3.0.11-0. 100% |################################| Time: 0:00:00  25.54 MB/s\n",
      "conda-4.3.23-p 100% |################################| Time: 0:00:00  10.03 MB/s\n",
      "matplotlib-2.0 100% |################################| Time: 0:00:00  13.39 MB/s\n",
      "opencv-3.2.0-n 100% |################################| Time: 0:00:01  24.23 MB/s\n",
      "slepc4py-3.7.0 100% |################################| Time: 0:00:00  44.29 MB/s\n",
      "fenics-2016.2. 100% |################################| Time: 0:00:01  43.35 MB/sime: 0:00:00  41.25 MB/s\n"
     ]
    }
   ],
   "source": [
    "!conda config --add channels conda-forge\n",
    "!conda install -y fenics=2016.2"
   ]
  },
  {
   "cell_type": "code",
   "execution_count": 1,
   "metadata": {
    "ExecuteTime": {
     "end_time": "2017-06-02T14:17:53.036180",
     "start_time": "2017-06-02T14:17:51.804441Z"
    },
    "collapsed": true,
    "init_cell": true,
    "nbpresent": {
     "id": "bd1bea11-c10f-4938-8e83-463695ee870f"
    }
   },
   "outputs": [],
   "source": [
    "from fenics import *\n",
    "import matplotlib.pyplot as plt\n",
    "import numpy as np\n",
    "%matplotlib inline"
   ]
  },
  {
   "cell_type": "code",
   "execution_count": 40,
   "metadata": {
    "ExecuteTime": {
     "end_time": "2017-06-02T14:22:47.660004",
     "start_time": "2017-06-02T14:22:47.627971Z"
    },
    "collapsed": true,
    "scrolled": true
   },
   "outputs": [],
   "source": [
    "# Physical Properties\n",
    "k = 1                                           # Thermal Conductivity\n",
    "rho = 2200                                      # Density\n",
    "c_p = 1100                                      # Specific Heat \n",
    "h = Constant('1')                               # Heat transfer coefficient for the Newton's Law of Cooling - Convection\n",
    "T_en = Constant('30')                           # Temperature of the fluid on the environment\n",
    "\n",
    "# Create 1D-mesh and define the function space\n",
    "L = 0.12                                        # Size of 1D domain\n",
    "nx = 20                                         # Number of elements (nx+1 nodes)\n",
    "ndx = L / nx                                      # Size of space element\n",
    "mesh = IntervalMesh(nx,0,L)                     # Create Mesh\n",
    "V = FunctionSpace(mesh, 'P', 2)                 # Define function space, V with piecewise quadratic elements\n",
    "\n",
    "# Create time mesh\n",
    "total_time = 500                                # Duration of simulation time\n",
    "dt = 5                                          # Time step size\n",
    "num_steps = int(total_time / dt)                # Number of time steps\n",
    "t = 0                                           # Define the time variable t\n",
    "T_profile = []                                  # List of values of T at each time step"
   ]
  },
  {
   "cell_type": "code",
   "execution_count": 47,
   "metadata": {
    "collapsed": true
   },
   "outputs": [],
   "source": [
    "# Define boundary conditions\n",
    "# Dirichilet BC\n",
    "def left_boundary(x, on_boundary):              # Define function to represent left boundary at position x=0\n",
    "    return on_boundary and near(x[0], 0)\n",
    "\n",
    "T_L = Expression('300', degree=1, t=t)          # Define function to represent the temperature at such boundary\n",
    "dbc = DirichletBC(V, T_L, left_boundary)        # Define the Dirichlet BC\n",
    "\n",
    "# Robin BC\n",
    "class right_boundary_class(SubDomain):          # Define class to represent right boundary at position x=L\n",
    "    def inside(self, x, on_boundary):  \n",
    "        return near(x[0], L)\n",
    "\n",
    "bc_right= right_boundary_class()                # Initialize the object bc_right to mark it in the non-Dirichilet boundary\n",
    "boundaries = FacetFunction('size_t', mesh)      # Get the boundaries of mesh\n",
    "boundaries.set_all(0)                           # Set all boundary with the flag '0'\n",
    "bc_right.mark(boundaries,1)                     # Mark the right boundary with the flag '1'\n",
    "ds = ds(subdomain_data=boundaries)              # Representation of the boundary\n",
    "\n",
    "# Define initial value\n",
    "T_0 = Constant('30')                            # Initial temperature value\n",
    "T_n = interpolate(T_0, V)                       # Initial temperature function at space V\n",
    "\n",
    "# Define variational problem\n",
    "u = TrialFunction(V)                            # Define the trial function u to write the variational problem\n",
    "v = TestFunction(V)                             # Define the test function v to write the variational problem\n",
    "\n",
    "f = Constant('0')                               # Source term - Heat generated or taken from reactions on the body\n",
    "\n",
    "F =  rho * c_p * u * v * dx + dt * k * dot(grad(u), grad(v)) * dx - \\\n",
    "    (rho * c_p * T_n + dt * f) * v * dx + dt * h * (u - T_en) * v * ds(1)\n",
    "\n",
    "a_u_v = lhs(F)                                  # Getting the bilinear form of the variational formulation F, a(u,v)\n",
    "A = assemble(a_u_v)                             # Assemble of the matrix of the global system of algebric equations \n",
    "                                                # (in this case there is no need to assemble inside the loop as the\n",
    "                                                # coefficients are constant)\n",
    "L_v = rhs(F)                                    # Getting the linear form of the variational formulation F, L(v)\n",
    "b = assemble(L_v)                               # Assemble of the global system of algebric equations\n",
    "dbc.apply(A)                                    # Applying the dirichilet boundary condition in the Matrix A\n",
    "dbc.apply(b)                                    # Applying the dirichilet boundary condition in vector b\n"
   ]
  },
  {
   "cell_type": "code",
   "execution_count": 48,
   "metadata": {
    "ExecuteTime": {
     "end_time": "2017-06-02T14:26:41.452301",
     "start_time": "2017-06-02T14:26:41.318547Z"
    },
    "collapsed": true,
    "scrolled": true
   },
   "outputs": [],
   "source": [
    "# Time-stepping\n",
    "T_ = Function(V)                                # Function T in space V to represent the dofs\n",
    "for n in range(num_steps):\n",
    "\n",
    "    # Update current time\n",
    "    t += dt\n",
    "    T_L.t = t\n",
    "\n",
    "    # Compute solution\n",
    "    solve(A,T_.vector(),b,)\n",
    "    #solve(F == 0, T, bcs=dbc)\n",
    "    \n",
    "    # Update previous solution\n",
    "    T_n.assign(T_)\n",
    "    \n",
    "    # List the value\n",
    "    T_profile.append(T_.compute_vertex_values())"
   ]
  },
  {
   "cell_type": "code",
   "execution_count": 49,
   "metadata": {},
   "outputs": [
    {
     "data": {
      "image/png": "[encoded data removed]",
      "text/plain": [
       "<matplotlib.figure.Figure at 0x7f859b8b4358>"
      ]
     },
     "metadata": {},
     "output_type": "display_data"
    }
   ],
   "source": [
    "T_his = np.array([T_profile[int(i)] for i in range(num_steps)])             # Data structure to make the temperature history plot\n",
    "\n",
    "f, axs = plt.subplots(1,2, figsize=(12,4))                                  # Initialize Figure object with two axes\n",
    "\n",
    "for i in np.linspace(0,num_steps-1,8):                                      # Plot 8 temperature profiles at different times\n",
    "    axs[0].plot(T_profile[int(i)], label='t = ' + str(int(i*dt)) + 's')\n",
    "axs[0].set_xlabel('Position')\n",
    "axs[0].set_ylabel('Temperature')\n",
    "\n",
    "for i in np.linspace(0,nx,8):                                               # Plot 8 temperature histories at different positions\n",
    "    axs[1].plot(T_his[:,int(i)], label='x = '+  str(round(i*ndx,2)))\n",
    "axs[1].set_xlabel('Time')\n",
    "axs[1].set_ylabel('Temperature')\n",
    "\n",
    "\n",
    "for ax in axs:                                                              # Add grid and legends\n",
    "    ax.grid()\n",
    "    ax.legend(loc='best')\n",
    "\n",
    "plt.tight_layout()                                                          # Organize displacement of labels\n",
    "#plt.savefig('T_profile_history.png', dpi=600)                               # Save the figure\n",
    "plt.show()"
   ]
  },
  {
   "cell_type": "code",
   "execution_count": null,
   "metadata": {
    "collapsed": true
   },
   "outputs": [],
   "source": []
  }
 ],
 "metadata": {
  "anaconda-cloud": {},
  "kernelspec": {
   "display_name": "Python 3",
   "language": "python",
   "name": "python3"
  },
  "language_info": {
   "codemirror_mode": {
    "name": "ipython",
    "version": 3
   },
   "file_extension": ".py",
   "mimetype": "text/x-python",
   "name": "python",
   "nbconvert_exporter": "python",
   "pygments_lexer": "ipython3",
   "version": "3.5.1"
  },
  "latex_envs": {
   "bibliofile": "biblio.bib",
   "cite_by": "apalike",
   "current_citInitial": 1,
   "eqLabelWithNumbers": true,
   "eqNumInitial": 0
  },
  "nbpresent": {
   "slides": {
    "04531f06-e882-4e5c-a7a0-dfc0b9d0729d": {
     "id": "04531f06-e882-4e5c-a7a0-dfc0b9d0729d",
     "prev": "eb190dc5-01a3-4dab-a517-15d35b1765b6",
     "regions": {
      "7a566a1d-b658-4165-aea2-407548572fb2": {
       "attrs": {
        "height": 0.8,
        "width": 0.8,
        "x": 0.1,
        "y": 0.1
       },
       "content": {
        "cell": "ee337854-a8a0-4aae-841d-68bf793cf54c",
        "part": "whole"
       },
       "id": "7a566a1d-b658-4165-aea2-407548572fb2"
      }
     }
    },
    "0dd2ecee-9553-4e88-b472-2631efd0d8cd": {
     "id": "0dd2ecee-9553-4e88-b472-2631efd0d8cd",
     "prev": "8f11cc0b-7b33-4ef5-91e4-3ca863da8cf3",
     "regions": {
      "0dcf8d8a-0712-402b-adf2-0fd99b42c3d7": {
       "attrs": {
        "height": 0.8,
        "width": 0.8,
        "x": 0.1,
        "y": 0.1
       },
       "content": {
        "cell": "c4394892-3dee-4c30-9012-ee69c14258e9",
        "part": "whole"
       },
       "id": "0dcf8d8a-0712-402b-adf2-0fd99b42c3d7"
      }
     }
    },
    "1bc7383d-6158-44c2-bbdf-879d71931499": {
     "id": "1bc7383d-6158-44c2-bbdf-879d71931499",
     "prev": "cce6dd7c-f875-4c24-aa48-dd5c22c81dfd",
     "regions": {
      "41949fef-7df9-46c4-b051-dfacff106459": {
       "attrs": {
        "height": 0.8,
        "width": 0.8,
        "x": 0.1,
        "y": 0.1
       },
       "content": {
        "cell": "1d86a5ac-b1c4-40ae-9000-3cd756cf3eba",
        "part": "whole"
       },
       "id": "41949fef-7df9-46c4-b051-dfacff106459"
      }
     }
    },
    "1fea7e98-797d-489b-a2ac-9ce3d3722fe8": {
     "id": "1fea7e98-797d-489b-a2ac-9ce3d3722fe8",
     "prev": "0dd2ecee-9553-4e88-b472-2631efd0d8cd",
     "regions": {
      "3a550744-37d3-4694-b944-bc605ee43349": {
       "attrs": {
        "height": 0.8,
        "width": 0.8,
        "x": 0.1,
        "y": 0.1
       },
       "content": {
        "cell": "7861e6c3-191a-4cac-ba09-32b64501ea8b",
        "part": "whole"
       },
       "id": "3a550744-37d3-4694-b944-bc605ee43349"
      }
     },
     "theme": null
    },
    "3855f57e-41e1-49bb-bc45-af3db66a819a": {
     "id": "3855f57e-41e1-49bb-bc45-af3db66a819a",
     "prev": "3f4a6d5e-9465-494a-bf4d-3cd90ed519a4",
     "regions": {
      "ed73e0d5-03d2-4317-b59b-b36a8c78e6cb": {
       "attrs": {
        "height": 0.8,
        "width": 0.8,
        "x": 0.1,
        "y": 0.1
       },
       "content": {
        "cell": "a34fa450-ff61-4f05-adfd-c232d499b87b",
        "part": "whole"
       },
       "id": "ed73e0d5-03d2-4317-b59b-b36a8c78e6cb"
      }
     }
    },
    "3f4a6d5e-9465-494a-bf4d-3cd90ed519a4": {
     "id": "3f4a6d5e-9465-494a-bf4d-3cd90ed519a4",
     "prev": "1bc7383d-6158-44c2-bbdf-879d71931499",
     "regions": {
      "c433d629-2539-424a-9ba4-18b1694aa180": {
       "attrs": {
        "height": 0.8,
        "width": 0.8,
        "x": 0.1,
        "y": 0.1
       },
       "content": {
        "cell": "1e37e4cc-b419-473b-9475-4d2fe86b1182",
        "part": "whole"
       },
       "id": "c433d629-2539-424a-9ba4-18b1694aa180"
      }
     }
    },
    "63d93894-f412-4b9d-80ce-a18905e55094": {
     "id": "63d93894-f412-4b9d-80ce-a18905e55094",
     "prev": "04531f06-e882-4e5c-a7a0-dfc0b9d0729d",
     "regions": {
      "39f40b0c-0df7-4893-af39-080fb69d13d3": {
       "attrs": {
        "height": 0.8,
        "width": 0.8,
        "x": 0.1,
        "y": 0.1
       },
       "content": {
        "cell": "4674842c-1362-4764-bc8d-edf7d41932e9",
        "part": "whole"
       },
       "id": "39f40b0c-0df7-4893-af39-080fb69d13d3"
      }
     }
    },
    "8f11cc0b-7b33-4ef5-91e4-3ca863da8cf3": {
     "id": "8f11cc0b-7b33-4ef5-91e4-3ca863da8cf3",
     "prev": "ad9b5b6e-2429-4ac9-860c-bcfc52cb65f5",
     "regions": {
      "4654dbcf-3cfc-4d60-989e-2d86fd3b83c5": {
       "attrs": {
        "height": 0.8,
        "width": 0.8,
        "x": 0.1,
        "y": 0.1
       },
       "content": {
        "cell": "98b6d9fc-30a6-4e87-b00d-b6b569b1a8ef",
        "part": "whole"
       },
       "id": "4654dbcf-3cfc-4d60-989e-2d86fd3b83c5"
      }
     }
    },
    "ad9b5b6e-2429-4ac9-860c-bcfc52cb65f5": {
     "id": "ad9b5b6e-2429-4ac9-860c-bcfc52cb65f5",
     "prev": "e12ebeea-6379-4747-8896-ac592e14137d",
     "regions": {
      "4a0d394b-f15f-4a77-9404-dace33e75e26": {
       "attrs": {
        "height": 0.8,
        "width": 0.8,
        "x": 0.1,
        "y": 0.1
       },
       "content": {
        "cell": "7ffa1dc8-1b8a-4cd4-9e15-cfdee03dcc70",
        "part": "whole"
       },
       "id": "4a0d394b-f15f-4a77-9404-dace33e75e26"
      }
     }
    },
    "c941d70c-9351-4167-84a6-a46302e61c0f": {
     "id": "c941d70c-9351-4167-84a6-a46302e61c0f",
     "prev": null,
     "regions": {
      "90daa3e9-d47e-4a94-a6cc-eda2101561b8": {
       "attrs": {
        "height": 0.8,
        "width": 0.8,
        "x": 0.1,
        "y": 0.1
       },
       "id": "90daa3e9-d47e-4a94-a6cc-eda2101561b8"
      }
     }
    },
    "cce6dd7c-f875-4c24-aa48-dd5c22c81dfd": {
     "id": "cce6dd7c-f875-4c24-aa48-dd5c22c81dfd",
     "prev": "63d93894-f412-4b9d-80ce-a18905e55094",
     "regions": {
      "8522f5de-4d48-4d99-8816-04fa3a3e1d90": {
       "attrs": {
        "height": 0.8,
        "width": 0.8,
        "x": 0.1,
        "y": 0.1
       },
       "content": {
        "cell": "0bebd40a-813c-423b-a369-83480b70a223",
        "part": "whole"
       },
       "id": "8522f5de-4d48-4d99-8816-04fa3a3e1d90"
      }
     }
    },
    "e12ebeea-6379-4747-8896-ac592e14137d": {
     "id": "e12ebeea-6379-4747-8896-ac592e14137d",
     "layout": "grid",
     "prev": "3855f57e-41e1-49bb-bc45-af3db66a819a",
     "regions": {
      "08e1cf35-4c33-4ddf-8efa-6a49d06b334a": {
       "attrs": {
        "height": 1,
        "pad": 0.01,
        "treemap:weight": 1,
        "width": 1,
        "x": -0.08333333333333333,
        "y": 0
       },
       "content": {
        "cell": "32693ad2-593d-40bb-9419-5ed8bc3e80b0",
        "part": "whole"
       },
       "id": "08e1cf35-4c33-4ddf-8efa-6a49d06b334a"
      }
     }
    },
    "eb190dc5-01a3-4dab-a517-15d35b1765b6": {
     "id": "eb190dc5-01a3-4dab-a517-15d35b1765b6",
     "prev": "c941d70c-9351-4167-84a6-a46302e61c0f",
     "regions": {
      "96fc2e80-5e55-4206-b382-c10d00cb52ee": {
       "attrs": {
        "height": 0.8,
        "width": 0.8,
        "x": 0.1,
        "y": 0.1
       },
       "content": {
        "cell": "bd1bea11-c10f-4938-8e83-463695ee870f",
        "part": "whole"
       },
       "id": "96fc2e80-5e55-4206-b382-c10d00cb52ee"
      }
     }
    }
   },
   "themes": {
    "default": "a367068c-c27a-4c48-8509-58e3d8e59cde",
    "theme": {
     "a367068c-c27a-4c48-8509-58e3d8e59cde": {
      "id": "a367068c-c27a-4c48-8509-58e3d8e59cde",
      "palette": {
       "19cc588f-0593-49c9-9f4b-e4d7cc113b1c": {
        "id": "19cc588f-0593-49c9-9f4b-e4d7cc113b1c",
        "rgb": [
         252,
         252,
         252
        ]
       },
       "31af15d2-7e15-44c5-ab5e-e04b16a89eff": {
        "id": "31af15d2-7e15-44c5-ab5e-e04b16a89eff",
        "rgb": [
         68,
         68,
         68
        ]
       },
       "50f92c45-a630-455b-aec3-788680ec7410": {
        "id": "50f92c45-a630-455b-aec3-788680ec7410",
        "rgb": [
         155,
         177,
         192
        ]
       },
       "c5cc3653-2ee1-402a-aba2-7caae1da4f6c": {
        "id": "c5cc3653-2ee1-402a-aba2-7caae1da4f6c",
        "rgb": [
         43,
         126,
         184
        ]
       },
       "efa7f048-9acb-414c-8b04-a26811511a21": {
        "id": "efa7f048-9acb-414c-8b04-a26811511a21",
        "rgb": [
         25.118061674008803,
         73.60176211453744,
         107.4819383259912
        ]
       }
      },
      "rules": {
       "blockquote": {
        "color": "50f92c45-a630-455b-aec3-788680ec7410"
       },
       "code": {
        "font-family": "Anonymous Pro"
       },
       "h1": {
        "color": "c5cc3653-2ee1-402a-aba2-7caae1da4f6c",
        "font-family": "Lato",
        "font-size": 8
       },
       "h2": {
        "color": "c5cc3653-2ee1-402a-aba2-7caae1da4f6c",
        "font-family": "Lato",
        "font-size": 6
       },
       "h3": {
        "color": "50f92c45-a630-455b-aec3-788680ec7410",
        "font-family": "Lato",
        "font-size": 5.5
       },
       "h4": {
        "color": "c5cc3653-2ee1-402a-aba2-7caae1da4f6c",
        "font-family": "Lato",
        "font-size": 5
       },
       "h5": {
        "font-family": "Lato"
       },
       "h6": {
        "font-family": "Lato"
       },
       "h7": {
        "font-family": "Lato"
       },
       "pre": {
        "font-family": "Anonymous Pro",
        "font-size": 4
       }
      },
      "text-base": {
       "font-family": "Merriweather",
       "font-size": 4
      }
     }
    }
   }
  },
  "toc": {
   "nav_menu": {
    "height": "12px",
    "width": "252px"
   },
   "navigate_menu": true,
   "number_sections": true,
   "sideBar": true,
   "threshold": 4,
   "toc_cell": false,
   "toc_section_display": "block",
   "toc_window_display": false
  }
 },
 "nbformat": 4,
 "nbformat_minor": 1
}
